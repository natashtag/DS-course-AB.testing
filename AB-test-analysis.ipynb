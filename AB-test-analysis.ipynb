{
 "cells": [
  {
   "cell_type": "markdown",
   "id": "cdd9a923",
   "metadata": {},
   "source": [
    "## Part 1"
   ]
  },
  {
   "cell_type": "markdown",
   "id": "81be32ac",
   "metadata": {},
   "source": [
    "The A/B test was conducted between 2022-02-13 and 2022-02-19. Control group (A) - 1, treatment group (B) - 2.<br>\n",
    "__H1:__ CTR will increase after the implementation of the new algorithm.<br>\n",
    "Analyze the results using various statistical methods: T-test, Mann-Witney test, Laplace smoothing (𝛼=5), Bootstrap, Bucketization."
   ]
  },
  {
   "cell_type": "code",
   "execution_count": 71,
   "id": "533a6d90",
   "metadata": {},
   "outputs": [],
   "source": [
    "import pandahouse\n",
    "import pandas as pd\n",
    "import numpy as np\n",
    "import seaborn as sns\n",
    "import matplotlib.pyplot as plt\n",
    "from scipy import stats\n",
    "import hashlib\n",
    "%matplotlib inline\n",
    "\n",
    "sns.set()"
   ]
  },
  {
   "cell_type": "markdown",
   "id": "59786dcf",
   "metadata": {},
   "source": [
    "Data from csv file"
   ]
  },
  {
   "cell_type": "code",
   "execution_count": 75,
   "id": "782c16b7",
   "metadata": {},
   "outputs": [
    {
     "data": {
      "text/html": [
       "<div>\n",
       "<style scoped>\n",
       "    .dataframe tbody tr th:only-of-type {\n",
       "        vertical-align: middle;\n",
       "    }\n",
       "\n",
       "    .dataframe tbody tr th {\n",
       "        vertical-align: top;\n",
       "    }\n",
       "\n",
       "    .dataframe thead th {\n",
       "        text-align: right;\n",
       "    }\n",
       "</style>\n",
       "<table border=\"1\" class=\"dataframe\">\n",
       "  <thead>\n",
       "    <tr style=\"text-align: right;\">\n",
       "      <th></th>\n",
       "      <th>exp_group</th>\n",
       "      <th>user_id</th>\n",
       "      <th>likes</th>\n",
       "      <th>views</th>\n",
       "      <th>ctr</th>\n",
       "    </tr>\n",
       "  </thead>\n",
       "  <tbody>\n",
       "    <tr>\n",
       "      <th>0</th>\n",
       "      <td>3</td>\n",
       "      <td>115383</td>\n",
       "      <td>9</td>\n",
       "      <td>30</td>\n",
       "      <td>0.300000</td>\n",
       "    </tr>\n",
       "    <tr>\n",
       "      <th>1</th>\n",
       "      <td>1</td>\n",
       "      <td>18392</td>\n",
       "      <td>7</td>\n",
       "      <td>32</td>\n",
       "      <td>0.218750</td>\n",
       "    </tr>\n",
       "    <tr>\n",
       "      <th>2</th>\n",
       "      <td>3</td>\n",
       "      <td>123580</td>\n",
       "      <td>13</td>\n",
       "      <td>48</td>\n",
       "      <td>0.270833</td>\n",
       "    </tr>\n",
       "    <tr>\n",
       "      <th>3</th>\n",
       "      <td>2</td>\n",
       "      <td>131473</td>\n",
       "      <td>14</td>\n",
       "      <td>134</td>\n",
       "      <td>0.104478</td>\n",
       "    </tr>\n",
       "    <tr>\n",
       "      <th>4</th>\n",
       "      <td>4</td>\n",
       "      <td>107323</td>\n",
       "      <td>5</td>\n",
       "      <td>31</td>\n",
       "      <td>0.161290</td>\n",
       "    </tr>\n",
       "    <tr>\n",
       "      <th>...</th>\n",
       "      <td>...</td>\n",
       "      <td>...</td>\n",
       "      <td>...</td>\n",
       "      <td>...</td>\n",
       "      <td>...</td>\n",
       "    </tr>\n",
       "    <tr>\n",
       "      <th>50144</th>\n",
       "      <td>0</td>\n",
       "      <td>27030</td>\n",
       "      <td>8</td>\n",
       "      <td>39</td>\n",
       "      <td>0.205128</td>\n",
       "    </tr>\n",
       "    <tr>\n",
       "      <th>50145</th>\n",
       "      <td>3</td>\n",
       "      <td>122758</td>\n",
       "      <td>30</td>\n",
       "      <td>198</td>\n",
       "      <td>0.151515</td>\n",
       "    </tr>\n",
       "    <tr>\n",
       "      <th>50146</th>\n",
       "      <td>1</td>\n",
       "      <td>132567</td>\n",
       "      <td>45</td>\n",
       "      <td>296</td>\n",
       "      <td>0.152027</td>\n",
       "    </tr>\n",
       "    <tr>\n",
       "      <th>50147</th>\n",
       "      <td>3</td>\n",
       "      <td>122190</td>\n",
       "      <td>19</td>\n",
       "      <td>65</td>\n",
       "      <td>0.292308</td>\n",
       "    </tr>\n",
       "    <tr>\n",
       "      <th>50148</th>\n",
       "      <td>2</td>\n",
       "      <td>17310</td>\n",
       "      <td>9</td>\n",
       "      <td>82</td>\n",
       "      <td>0.109756</td>\n",
       "    </tr>\n",
       "  </tbody>\n",
       "</table>\n",
       "<p>50149 rows × 5 columns</p>\n",
       "</div>"
      ],
      "text/plain": [
       "       exp_group  user_id  likes  views       ctr\n",
       "0              3   115383      9     30  0.300000\n",
       "1              1    18392      7     32  0.218750\n",
       "2              3   123580     13     48  0.270833\n",
       "3              2   131473     14    134  0.104478\n",
       "4              4   107323      5     31  0.161290\n",
       "...          ...      ...    ...    ...       ...\n",
       "50144          0    27030      8     39  0.205128\n",
       "50145          3   122758     30    198  0.151515\n",
       "50146          1   132567     45    296  0.152027\n",
       "50147          3   122190     19     65  0.292308\n",
       "50148          2    17310      9     82  0.109756\n",
       "\n",
       "[50149 rows x 5 columns]"
      ]
     },
     "execution_count": 75,
     "metadata": {},
     "output_type": "execute_result"
    }
   ],
   "source": [
    "# Import from csv\n",
    "df = pd.read_csv('Task_7.2_7.3.csv')\n",
    "df"
   ]
  },
  {
   "cell_type": "code",
   "execution_count": 76,
   "id": "10eadcf3",
   "metadata": {},
   "outputs": [
    {
     "data": {
      "text/plain": [
       "exp_group      int64\n",
       "user_id        int64\n",
       "likes          int64\n",
       "views          int64\n",
       "ctr          float64\n",
       "dtype: object"
      ]
     },
     "execution_count": 76,
     "metadata": {},
     "output_type": "execute_result"
    }
   ],
   "source": [
    "df.dtypes"
   ]
  },
  {
   "cell_type": "code",
   "execution_count": 77,
   "id": "4498937e",
   "metadata": {
    "scrolled": false
   },
   "outputs": [
    {
     "data": {
      "image/png": "[encoded data removed]",
      "text/plain": [
       "<Figure size 576x432 with 1 Axes>"
      ]
     },
     "metadata": {},
     "output_type": "display_data"
    }
   ],
   "source": [
    "sns.set(rc={'figure.figsize':(8,6)})\n",
    "groups = sns.histplot(data = df.query('exp_group == [1, 2]'), x='ctr', \n",
    "                      hue='exp_group', \n",
    "                      palette = ['blue', 'green'], \n",
    "                      alpha=0.5,\n",
    "                      kde=False)"
   ]
  },
  {
   "cell_type": "markdown",
   "id": "c89b743e",
   "metadata": {},
   "source": [
    "Group 2 (Treatment) the distribution is not normal."
   ]
  },
  {
   "cell_type": "markdown",
   "id": "3b1b8ac0",
   "metadata": {},
   "source": [
    "### Methods"
   ]
  },
  {
   "cell_type": "markdown",
   "id": "a01584e3",
   "metadata": {},
   "source": [
    "### 1. T-test"
   ]
  },
  {
   "cell_type": "code",
   "execution_count": 160,
   "id": "791ee439",
   "metadata": {},
   "outputs": [
    {
     "data": {
      "text/plain": [
       "Ttest_indResult(statistic=0.7116545895251319, pvalue=0.4766869824114077)"
      ]
     },
     "execution_count": 160,
     "metadata": {},
     "output_type": "execute_result"
    }
   ],
   "source": [
    "stats.ttest_ind(df[df.exp_group == 1].ctr, df[df.exp_group == 2].ctr)"
   ]
  },
  {
   "cell_type": "markdown",
   "id": "3dcb9520",
   "metadata": {},
   "source": [
    "p-value > 0.05"
   ]
  },
  {
   "cell_type": "markdown",
   "id": "fd95eaaf",
   "metadata": {},
   "source": [
    "### 2. Laplace smoothing"
   ]
  },
  {
   "cell_type": "markdown",
   "id": "24731e27",
   "metadata": {},
   "source": [
    "$smoothedCTR = \\frac{likes + \\alpha * globalCTR}{views + \\alpha}$, where $\\alpha$ - hyperparameter, $globalCTR$ - CTR of a group<br>\n",
    "<https://vkteam.medium.com/practitioners-guide-to-statistical-tests-ed2d580ef04f#d2d3>"
   ]
  },
  {
   "cell_type": "code",
   "execution_count": 51,
   "id": "12e37562",
   "metadata": {},
   "outputs": [],
   "source": [
    "def get_smothed_ctr(likes, views, global_ctr, alpha):\n",
    "    smothed_ctr = (likes + alpha * global_ctr) / (views + alpha)\n",
    "    return smothed_ctr"
   ]
  },
  {
   "cell_type": "code",
   "execution_count": 52,
   "id": "5b317e22",
   "metadata": {},
   "outputs": [
    {
     "name": "stdout",
     "output_type": "stream",
     "text": [
      "0.20802680490126244 0.1980601844115994\n"
     ]
    }
   ],
   "source": [
    "global_ctr_1 = df[df.exp_group == 1].likes.sum()/df[df.exp_group == 1].views.sum()\n",
    "global_ctr_2 = df[df.exp_group == 2].likes.sum()/df[df.exp_group == 2].views.sum()\n",
    "print(global_ctr_1, global_ctr_2)"
   ]
  },
  {
   "cell_type": "markdown",
   "id": "a1ceb6c0",
   "metadata": {},
   "source": [
    "Global CTRs differ by approximately by 1%."
   ]
  },
  {
   "cell_type": "markdown",
   "id": "da279bf6",
   "metadata": {},
   "source": [
    "Choose 5 for 𝛼 "
   ]
  },
  {
   "cell_type": "code",
   "execution_count": 53,
   "id": "cfe3e692",
   "metadata": {},
   "outputs": [],
   "source": [
    "group1 = df[df.exp_group == 1].copy()\n",
    "group1['smoothed_ctr'] = df.apply(\n",
    "    lambda x: get_smothed_ctr(x['likes'], x['views'], global_ctr_1, 5), axis=1)\n",
    "\n",
    "group2 = df[df.exp_group == 2].copy()\n",
    "group2['smoothed_ctr'] = df.apply(\n",
    "    lambda x: get_smothed_ctr(x['likes'], x['views'], global_ctr_2, 5), axis=1)"
   ]
  },
  {
   "cell_type": "code",
   "execution_count": 54,
   "id": "027fdf45",
   "metadata": {},
   "outputs": [
    {
     "data": {
      "image/png": "[encoded data removed]",
      "text/plain": [
       "<Figure size 576x432 with 1 Axes>"
      ]
     },
     "metadata": {},
     "output_type": "display_data"
    }
   ],
   "source": [
    "sns.histplot(group1.ctr, color='blue', element=\"step\", fill=False)\n",
    "sns.histplot(group1.smoothed_ctr, color='deepskyblue', element=\"step\", fill=False)\n",
    "plt.legend(labels=['CTR', 'smoothed CTR'])\n",
    "plt.suptitle('group 1 (Control)')\n",
    "sns.despine()"
   ]
  },
  {
   "cell_type": "code",
   "execution_count": 55,
   "id": "ac3d4cc3",
   "metadata": {
    "scrolled": false
   },
   "outputs": [
    {
     "data": {
      "image/png": "[encoded data removed]",
      "text/plain": [
       "<Figure size 576x432 with 1 Axes>"
      ]
     },
     "metadata": {},
     "output_type": "display_data"
    }
   ],
   "source": [
    "sns.histplot(group2.ctr, color='green', element=\"step\", fill=False)\n",
    "sns.histplot(group2.smoothed_ctr, color='lime', element=\"step\", fill=False)\n",
    "plt.legend(labels=['CTR', 'smoothed CTR'])\n",
    "plt.suptitle('group 2 (Treatment)')\n",
    "sns.despine()"
   ]
  },
  {
   "cell_type": "code",
   "execution_count": 56,
   "id": "69f7e811",
   "metadata": {},
   "outputs": [
    {
     "data": {
      "text/plain": [
       "Ttest_indResult(statistic=2.2841320431616983, pvalue=0.0223769815558559)"
      ]
     },
     "execution_count": 56,
     "metadata": {},
     "output_type": "execute_result"
    }
   ],
   "source": [
    "stats.ttest_ind(group1.smoothed_ctr, group2.smoothed_ctr, equal_var=False)"
   ]
  },
  {
   "cell_type": "markdown",
   "id": "9a31067f",
   "metadata": {},
   "source": [
    "p-value < 0.05<br>\n",
    "After smoothing the distributions became slightly narrower, t-test shows significant difference after this data transformation."
   ]
  },
  {
   "cell_type": "markdown",
   "id": "af94293d",
   "metadata": {},
   "source": [
    "### 3. Poisson bootstrap\n",
    "To compare group CTRs lets generate frequencies of occurrences of each observation in the subsample from Poisson distribution."
   ]
  },
  {
   "cell_type": "code",
   "execution_count": 57,
   "id": "5930de32",
   "metadata": {},
   "outputs": [],
   "source": [
    "def bootstrap(likes1, views1, likes2, views2, n_bootstrap=2000):\n",
    "\n",
    "    poisson_bootstraps1 = stats.poisson(1).rvs(\n",
    "        (n_bootstrap, len(likes1))).astype(np.int64)\n",
    "\n",
    "    poisson_bootstraps2 = stats.poisson(1).rvs(\n",
    "            (n_bootstrap, len(likes2))).astype(np.int64)\n",
    "    \n",
    "    globalCTR1 = (poisson_bootstraps1*likes1).sum(axis=1)/(poisson_bootstraps1*views1).sum(axis=1)\n",
    "    \n",
    "    globalCTR2 = (poisson_bootstraps2*likes2).sum(axis=1)/(poisson_bootstraps2*views2).sum(axis=1)\n",
    "\n",
    "    return globalCTR1, globalCTR2"
   ]
  },
  {
   "cell_type": "code",
   "execution_count": 58,
   "id": "40f19ae8",
   "metadata": {},
   "outputs": [],
   "source": [
    "likes1 = df[df.exp_group == 1].likes.to_numpy()\n",
    "views1 = df[df.exp_group == 1].views.to_numpy()\n",
    "likes2 = df[df.exp_group == 2].likes.to_numpy()\n",
    "views2 = df[df.exp_group == 2].views.to_numpy()\n",
    "\n",
    "ctr1, ctr2 = bootstrap(likes1, views1, likes2, views2)"
   ]
  },
  {
   "cell_type": "code",
   "execution_count": 59,
   "id": "fec37410",
   "metadata": {},
   "outputs": [
    {
     "data": {
      "image/png": "[encoded data removed]",
      "text/plain": [
       "<Figure size 576x432 with 1 Axes>"
      ]
     },
     "metadata": {},
     "output_type": "display_data"
    }
   ],
   "source": [
    "sns.histplot(ctr1, color='blue')\n",
    "sns.histplot(ctr2, color='green')\n",
    "plt.legend(labels=['1 - control', '2 - treatment'])\n",
    "sns.despine()"
   ]
  },
  {
   "cell_type": "code",
   "execution_count": 62,
   "id": "cb268d47",
   "metadata": {},
   "outputs": [
    {
     "data": {
      "text/plain": [
       "<AxesSubplot:ylabel='Count'>"
      ]
     },
     "execution_count": 62,
     "metadata": {},
     "output_type": "execute_result"
    },
    {
     "data": {
      "image/png": "[encoded data removed]",
      "text/plain": [
       "<Figure size 576x432 with 1 Axes>"
      ]
     },
     "metadata": {},
     "output_type": "display_data"
    }
   ],
   "source": [
    "sns.histplot(ctr2 - ctr1, color='gold')"
   ]
  },
  {
   "cell_type": "markdown",
   "id": "8fa7fdc7",
   "metadata": {},
   "source": [
    "CTR in Group 2 is smaller than in Group 1. The distribution of difference doesn't include zero, meaning the difference is significant."
   ]
  },
  {
   "cell_type": "markdown",
   "id": "0de930e9",
   "metadata": {},
   "source": [
    "### 4. Mann-Whitney"
   ]
  },
  {
   "cell_type": "code",
   "execution_count": 63,
   "id": "67907294",
   "metadata": {
    "scrolled": true
   },
   "outputs": [
    {
     "data": {
      "text/plain": [
       "MannwhitneyuResult(statistic=56601260.5, pvalue=6.0376484617779035e-56)"
      ]
     },
     "execution_count": 63,
     "metadata": {},
     "output_type": "execute_result"
    }
   ],
   "source": [
    "stats.mannwhitneyu(df[df.exp_group == 1].ctr, df[df.exp_group == 2].ctr)"
   ]
  },
  {
   "cell_type": "markdown",
   "id": "ace1e30e",
   "metadata": {},
   "source": [
    "p-value < 0.05"
   ]
  },
  {
   "cell_type": "markdown",
   "id": "1fc2d592",
   "metadata": {},
   "source": [
    "### 5. Bucketing"
   ]
  },
  {
   "cell_type": "code",
   "execution_count": 88,
   "id": "005581b9",
   "metadata": {},
   "outputs": [],
   "source": [
    "# Create bucketing function. 50 buckets for each group\n",
    "def bucketing(id, salt='exp', n_groups=50):\n",
    "    test_id = str(id) + '-' + str(salt)\n",
    "    test_id_digest = hashlib.md5(test_id.encode('ascii')).hexdigest()\n",
    "    test_id_final_int = int(test_id_digest, 16)\n",
    "    return test_id_final_int % n_groups"
   ]
  },
  {
   "cell_type": "code",
   "execution_count": 94,
   "id": "35effa27",
   "metadata": {},
   "outputs": [],
   "source": [
    "df12 = df.query('exp_group == [1, 2]').copy()"
   ]
  },
  {
   "cell_type": "code",
   "execution_count": 96,
   "id": "400d9d55",
   "metadata": {},
   "outputs": [],
   "source": [
    "# Assign users to buckets\n",
    "df12['bucket'] = df12.user_id.apply(bucketing)"
   ]
  },
  {
   "cell_type": "code",
   "execution_count": 97,
   "id": "63ee5f03",
   "metadata": {},
   "outputs": [
    {
     "data": {
      "text/html": [
       "<div>\n",
       "<style scoped>\n",
       "    .dataframe tbody tr th:only-of-type {\n",
       "        vertical-align: middle;\n",
       "    }\n",
       "\n",
       "    .dataframe tbody tr th {\n",
       "        vertical-align: top;\n",
       "    }\n",
       "\n",
       "    .dataframe thead th {\n",
       "        text-align: right;\n",
       "    }\n",
       "</style>\n",
       "<table border=\"1\" class=\"dataframe\">\n",
       "  <thead>\n",
       "    <tr style=\"text-align: right;\">\n",
       "      <th></th>\n",
       "      <th>exp_group</th>\n",
       "      <th>user_id</th>\n",
       "      <th>likes</th>\n",
       "      <th>views</th>\n",
       "      <th>ctr</th>\n",
       "      <th>bucket</th>\n",
       "    </tr>\n",
       "  </thead>\n",
       "  <tbody>\n",
       "    <tr>\n",
       "      <th>1</th>\n",
       "      <td>1</td>\n",
       "      <td>18392</td>\n",
       "      <td>7</td>\n",
       "      <td>32</td>\n",
       "      <td>0.218750</td>\n",
       "      <td>35</td>\n",
       "    </tr>\n",
       "    <tr>\n",
       "      <th>3</th>\n",
       "      <td>2</td>\n",
       "      <td>131473</td>\n",
       "      <td>14</td>\n",
       "      <td>134</td>\n",
       "      <td>0.104478</td>\n",
       "      <td>0</td>\n",
       "    </tr>\n",
       "    <tr>\n",
       "      <th>5</th>\n",
       "      <td>2</td>\n",
       "      <td>32420</td>\n",
       "      <td>26</td>\n",
       "      <td>128</td>\n",
       "      <td>0.203125</td>\n",
       "      <td>11</td>\n",
       "    </tr>\n",
       "    <tr>\n",
       "      <th>6</th>\n",
       "      <td>2</td>\n",
       "      <td>24239</td>\n",
       "      <td>40</td>\n",
       "      <td>90</td>\n",
       "      <td>0.444444</td>\n",
       "      <td>11</td>\n",
       "    </tr>\n",
       "    <tr>\n",
       "      <th>8</th>\n",
       "      <td>1</td>\n",
       "      <td>27443</td>\n",
       "      <td>2</td>\n",
       "      <td>29</td>\n",
       "      <td>0.068966</td>\n",
       "      <td>8</td>\n",
       "    </tr>\n",
       "    <tr>\n",
       "      <th>...</th>\n",
       "      <td>...</td>\n",
       "      <td>...</td>\n",
       "      <td>...</td>\n",
       "      <td>...</td>\n",
       "      <td>...</td>\n",
       "      <td>...</td>\n",
       "    </tr>\n",
       "    <tr>\n",
       "      <th>50138</th>\n",
       "      <td>1</td>\n",
       "      <td>21697</td>\n",
       "      <td>2</td>\n",
       "      <td>22</td>\n",
       "      <td>0.090909</td>\n",
       "      <td>20</td>\n",
       "    </tr>\n",
       "    <tr>\n",
       "      <th>50140</th>\n",
       "      <td>2</td>\n",
       "      <td>1232</td>\n",
       "      <td>5</td>\n",
       "      <td>96</td>\n",
       "      <td>0.052083</td>\n",
       "      <td>23</td>\n",
       "    </tr>\n",
       "    <tr>\n",
       "      <th>50142</th>\n",
       "      <td>1</td>\n",
       "      <td>120653</td>\n",
       "      <td>15</td>\n",
       "      <td>74</td>\n",
       "      <td>0.202703</td>\n",
       "      <td>7</td>\n",
       "    </tr>\n",
       "    <tr>\n",
       "      <th>50146</th>\n",
       "      <td>1</td>\n",
       "      <td>132567</td>\n",
       "      <td>45</td>\n",
       "      <td>296</td>\n",
       "      <td>0.152027</td>\n",
       "      <td>28</td>\n",
       "    </tr>\n",
       "    <tr>\n",
       "      <th>50148</th>\n",
       "      <td>2</td>\n",
       "      <td>17310</td>\n",
       "      <td>9</td>\n",
       "      <td>82</td>\n",
       "      <td>0.109756</td>\n",
       "      <td>30</td>\n",
       "    </tr>\n",
       "  </tbody>\n",
       "</table>\n",
       "<p>20031 rows × 6 columns</p>\n",
       "</div>"
      ],
      "text/plain": [
       "       exp_group  user_id  likes  views       ctr  bucket\n",
       "1              1    18392      7     32  0.218750      35\n",
       "3              2   131473     14    134  0.104478       0\n",
       "5              2    32420     26    128  0.203125      11\n",
       "6              2    24239     40     90  0.444444      11\n",
       "8              1    27443      2     29  0.068966       8\n",
       "...          ...      ...    ...    ...       ...     ...\n",
       "50138          1    21697      2     22  0.090909      20\n",
       "50140          2     1232      5     96  0.052083      23\n",
       "50142          1   120653     15     74  0.202703       7\n",
       "50146          1   132567     45    296  0.152027      28\n",
       "50148          2    17310      9     82  0.109756      30\n",
       "\n",
       "[20031 rows x 6 columns]"
      ]
     },
     "execution_count": 97,
     "metadata": {},
     "output_type": "execute_result"
    }
   ],
   "source": [
    "df12"
   ]
  },
  {
   "cell_type": "code",
   "execution_count": 99,
   "id": "7052d5e8",
   "metadata": {},
   "outputs": [
    {
     "data": {
      "text/plain": [
       "50"
      ]
     },
     "execution_count": 99,
     "metadata": {},
     "output_type": "execute_result"
    }
   ],
   "source": [
    "df12.bucket.nunique()"
   ]
  },
  {
   "cell_type": "code",
   "execution_count": 100,
   "id": "5c0bd134",
   "metadata": {},
   "outputs": [
    {
     "data": {
      "text/html": [
       "<div>\n",
       "<style scoped>\n",
       "    .dataframe tbody tr th:only-of-type {\n",
       "        vertical-align: middle;\n",
       "    }\n",
       "\n",
       "    .dataframe tbody tr th {\n",
       "        vertical-align: top;\n",
       "    }\n",
       "\n",
       "    .dataframe thead th {\n",
       "        text-align: right;\n",
       "    }\n",
       "</style>\n",
       "<table border=\"1\" class=\"dataframe\">\n",
       "  <thead>\n",
       "    <tr style=\"text-align: right;\">\n",
       "      <th></th>\n",
       "      <th>bucket</th>\n",
       "      <th>exp_group</th>\n",
       "      <th>likes</th>\n",
       "      <th>views</th>\n",
       "      <th>bucket_ctr</th>\n",
       "    </tr>\n",
       "  </thead>\n",
       "  <tbody>\n",
       "    <tr>\n",
       "      <th>0</th>\n",
       "      <td>0</td>\n",
       "      <td>1</td>\n",
       "      <td>3286</td>\n",
       "      <td>15241</td>\n",
       "      <td>0.215603</td>\n",
       "    </tr>\n",
       "    <tr>\n",
       "      <th>1</th>\n",
       "      <td>0</td>\n",
       "      <td>2</td>\n",
       "      <td>2733</td>\n",
       "      <td>12312</td>\n",
       "      <td>0.221979</td>\n",
       "    </tr>\n",
       "    <tr>\n",
       "      <th>2</th>\n",
       "      <td>1</td>\n",
       "      <td>1</td>\n",
       "      <td>2786</td>\n",
       "      <td>13236</td>\n",
       "      <td>0.210487</td>\n",
       "    </tr>\n",
       "    <tr>\n",
       "      <th>3</th>\n",
       "      <td>1</td>\n",
       "      <td>2</td>\n",
       "      <td>2687</td>\n",
       "      <td>13254</td>\n",
       "      <td>0.202731</td>\n",
       "    </tr>\n",
       "    <tr>\n",
       "      <th>4</th>\n",
       "      <td>2</td>\n",
       "      <td>1</td>\n",
       "      <td>2996</td>\n",
       "      <td>14079</td>\n",
       "      <td>0.212799</td>\n",
       "    </tr>\n",
       "    <tr>\n",
       "      <th>...</th>\n",
       "      <td>...</td>\n",
       "      <td>...</td>\n",
       "      <td>...</td>\n",
       "      <td>...</td>\n",
       "      <td>...</td>\n",
       "    </tr>\n",
       "    <tr>\n",
       "      <th>95</th>\n",
       "      <td>47</td>\n",
       "      <td>2</td>\n",
       "      <td>2673</td>\n",
       "      <td>13688</td>\n",
       "      <td>0.195281</td>\n",
       "    </tr>\n",
       "    <tr>\n",
       "      <th>96</th>\n",
       "      <td>48</td>\n",
       "      <td>1</td>\n",
       "      <td>2736</td>\n",
       "      <td>13074</td>\n",
       "      <td>0.209270</td>\n",
       "    </tr>\n",
       "    <tr>\n",
       "      <th>97</th>\n",
       "      <td>48</td>\n",
       "      <td>2</td>\n",
       "      <td>2256</td>\n",
       "      <td>11164</td>\n",
       "      <td>0.202078</td>\n",
       "    </tr>\n",
       "    <tr>\n",
       "      <th>98</th>\n",
       "      <td>49</td>\n",
       "      <td>1</td>\n",
       "      <td>2834</td>\n",
       "      <td>13958</td>\n",
       "      <td>0.203038</td>\n",
       "    </tr>\n",
       "    <tr>\n",
       "      <th>99</th>\n",
       "      <td>49</td>\n",
       "      <td>2</td>\n",
       "      <td>2237</td>\n",
       "      <td>12348</td>\n",
       "      <td>0.181163</td>\n",
       "    </tr>\n",
       "  </tbody>\n",
       "</table>\n",
       "<p>100 rows × 5 columns</p>\n",
       "</div>"
      ],
      "text/plain": [
       "    bucket  exp_group  likes  views  bucket_ctr\n",
       "0        0          1   3286  15241    0.215603\n",
       "1        0          2   2733  12312    0.221979\n",
       "2        1          1   2786  13236    0.210487\n",
       "3        1          2   2687  13254    0.202731\n",
       "4        2          1   2996  14079    0.212799\n",
       "..     ...        ...    ...    ...         ...\n",
       "95      47          2   2673  13688    0.195281\n",
       "96      48          1   2736  13074    0.209270\n",
       "97      48          2   2256  11164    0.202078\n",
       "98      49          1   2834  13958    0.203038\n",
       "99      49          2   2237  12348    0.181163\n",
       "\n",
       "[100 rows x 5 columns]"
      ]
     },
     "execution_count": 100,
     "metadata": {},
     "output_type": "execute_result"
    }
   ],
   "source": [
    "# Find CTR in each bucket\n",
    "df_50b = df12.groupby(['bucket', 'exp_group'], as_index=False).agg({'likes': 'sum', 'views': 'sum'})\n",
    "\n",
    "df_50b = df_50b.assign(bucket_ctr = df_50b.likes / df_50b.views)\n",
    "df_50b"
   ]
  },
  {
   "cell_type": "code",
   "execution_count": 101,
   "id": "f623d854",
   "metadata": {
    "scrolled": false
   },
   "outputs": [
    {
     "data": {
      "image/png": "[encoded data removed]",
      "text/plain": [
       "<Figure size 576x432 with 1 Axes>"
      ]
     },
     "metadata": {},
     "output_type": "display_data"
    }
   ],
   "source": [
    "# Bucket CTR distributions by experimental group\n",
    "sns.histplot(data=df_50b, x='bucket_ctr', hue='exp_group', palette = ['blue', 'green'])\n",
    "sns.despine()"
   ]
  },
  {
   "cell_type": "code",
   "execution_count": 102,
   "id": "1c410489",
   "metadata": {},
   "outputs": [
    {
     "data": {
      "text/plain": [
       "MannwhitneyuResult(statistic=2091.0, pvalue=6.862487513520243e-09)"
      ]
     },
     "execution_count": 102,
     "metadata": {},
     "output_type": "execute_result"
    }
   ],
   "source": [
    "# Mann-Whitney\n",
    "stats.mannwhitneyu(df_50b[df_50b.exp_group == 1].bucket_ctr, \n",
    "                   df_50b[df_50b.exp_group == 2].bucket_ctr)"
   ]
  },
  {
   "cell_type": "code",
   "execution_count": 103,
   "id": "720d706f",
   "metadata": {},
   "outputs": [
    {
     "data": {
      "text/plain": [
       "Ttest_indResult(statistic=6.359711095062542, pvalue=2.0791987070670997e-08)"
      ]
     },
     "execution_count": 103,
     "metadata": {},
     "output_type": "execute_result"
    }
   ],
   "source": [
    "# t-test\n",
    "stats.ttest_ind(df_50b[df_50b.exp_group == 1].bucket_ctr, \n",
    "                   df_50b[df_50b.exp_group == 2].bucket_ctr, \n",
    "                   equal_var = False)"
   ]
  },
  {
   "cell_type": "markdown",
   "id": "b7251156",
   "metadata": {},
   "source": [
    "Tests show significant difference between two groups. CTR in treatment group appeared to be smaller. Thus it is not recommended to implement changes. However, in Treatment group the distribution of metric became bimodal, which can mean that for certain users there was a positive impact. Further investigation can be made on this subject."
   ]
  },
  {
   "cell_type": "markdown",
   "id": "b1cbe3e0",
   "metadata": {},
   "source": [
    "## Part 2\n",
    "Same hypothesis. Apply Linearization metric to analyze CTRs."
   ]
  },
  {
   "cell_type": "markdown",
   "id": "ad5b699c",
   "metadata": {},
   "source": [
    "### Linearization\n",
    "The method is used for ratio metrics. The idea is to create (modify the original) and compare a new metric. In case the test shows significant difference between groups, the the same result is expected for the original metric. <br>\n",
    "1) $likes_{linearized} = likes_{user} - globalCTR_{control} \\times views_{user}$\n",
    "\n",
    "2) Compare Linearized likes in both experimental groups with T-test<br>\n",
    "<https://vkteam.medium.com/practitioners-guide-to-statistical-tests-ed2d580ef04f#5eb5>"
   ]
  },
  {
   "cell_type": "code",
   "execution_count": 104,
   "id": "301c9ca5",
   "metadata": {},
   "outputs": [
    {
     "data": {
      "text/plain": [
       "0.20802680490126244"
      ]
     },
     "execution_count": 104,
     "metadata": {},
     "output_type": "execute_result"
    }
   ],
   "source": [
    "# Global CTR of Control group\n",
    "ctr_control = df[df.exp_group == 1].likes.sum()/df[df.exp_group == 1].views.sum()\n",
    "ctr_control"
   ]
  },
  {
   "cell_type": "code",
   "execution_count": 105,
   "id": "d9cd74f8",
   "metadata": {},
   "outputs": [
    {
     "data": {
      "text/html": [
       "<div>\n",
       "<style scoped>\n",
       "    .dataframe tbody tr th:only-of-type {\n",
       "        vertical-align: middle;\n",
       "    }\n",
       "\n",
       "    .dataframe tbody tr th {\n",
       "        vertical-align: top;\n",
       "    }\n",
       "\n",
       "    .dataframe thead th {\n",
       "        text-align: right;\n",
       "    }\n",
       "</style>\n",
       "<table border=\"1\" class=\"dataframe\">\n",
       "  <thead>\n",
       "    <tr style=\"text-align: right;\">\n",
       "      <th></th>\n",
       "      <th>exp_group</th>\n",
       "      <th>user_id</th>\n",
       "      <th>likes</th>\n",
       "      <th>views</th>\n",
       "      <th>ctr</th>\n",
       "      <th>bucket</th>\n",
       "    </tr>\n",
       "  </thead>\n",
       "  <tbody>\n",
       "    <tr>\n",
       "      <th>1</th>\n",
       "      <td>1</td>\n",
       "      <td>18392</td>\n",
       "      <td>7</td>\n",
       "      <td>32</td>\n",
       "      <td>0.218750</td>\n",
       "      <td>35</td>\n",
       "    </tr>\n",
       "    <tr>\n",
       "      <th>3</th>\n",
       "      <td>2</td>\n",
       "      <td>131473</td>\n",
       "      <td>14</td>\n",
       "      <td>134</td>\n",
       "      <td>0.104478</td>\n",
       "      <td>0</td>\n",
       "    </tr>\n",
       "    <tr>\n",
       "      <th>5</th>\n",
       "      <td>2</td>\n",
       "      <td>32420</td>\n",
       "      <td>26</td>\n",
       "      <td>128</td>\n",
       "      <td>0.203125</td>\n",
       "      <td>11</td>\n",
       "    </tr>\n",
       "    <tr>\n",
       "      <th>6</th>\n",
       "      <td>2</td>\n",
       "      <td>24239</td>\n",
       "      <td>40</td>\n",
       "      <td>90</td>\n",
       "      <td>0.444444</td>\n",
       "      <td>11</td>\n",
       "    </tr>\n",
       "    <tr>\n",
       "      <th>8</th>\n",
       "      <td>1</td>\n",
       "      <td>27443</td>\n",
       "      <td>2</td>\n",
       "      <td>29</td>\n",
       "      <td>0.068966</td>\n",
       "      <td>8</td>\n",
       "    </tr>\n",
       "    <tr>\n",
       "      <th>...</th>\n",
       "      <td>...</td>\n",
       "      <td>...</td>\n",
       "      <td>...</td>\n",
       "      <td>...</td>\n",
       "      <td>...</td>\n",
       "      <td>...</td>\n",
       "    </tr>\n",
       "    <tr>\n",
       "      <th>50138</th>\n",
       "      <td>1</td>\n",
       "      <td>21697</td>\n",
       "      <td>2</td>\n",
       "      <td>22</td>\n",
       "      <td>0.090909</td>\n",
       "      <td>20</td>\n",
       "    </tr>\n",
       "    <tr>\n",
       "      <th>50140</th>\n",
       "      <td>2</td>\n",
       "      <td>1232</td>\n",
       "      <td>5</td>\n",
       "      <td>96</td>\n",
       "      <td>0.052083</td>\n",
       "      <td>23</td>\n",
       "    </tr>\n",
       "    <tr>\n",
       "      <th>50142</th>\n",
       "      <td>1</td>\n",
       "      <td>120653</td>\n",
       "      <td>15</td>\n",
       "      <td>74</td>\n",
       "      <td>0.202703</td>\n",
       "      <td>7</td>\n",
       "    </tr>\n",
       "    <tr>\n",
       "      <th>50146</th>\n",
       "      <td>1</td>\n",
       "      <td>132567</td>\n",
       "      <td>45</td>\n",
       "      <td>296</td>\n",
       "      <td>0.152027</td>\n",
       "      <td>28</td>\n",
       "    </tr>\n",
       "    <tr>\n",
       "      <th>50148</th>\n",
       "      <td>2</td>\n",
       "      <td>17310</td>\n",
       "      <td>9</td>\n",
       "      <td>82</td>\n",
       "      <td>0.109756</td>\n",
       "      <td>30</td>\n",
       "    </tr>\n",
       "  </tbody>\n",
       "</table>\n",
       "<p>20031 rows × 6 columns</p>\n",
       "</div>"
      ],
      "text/plain": [
       "       exp_group  user_id  likes  views       ctr  bucket\n",
       "1              1    18392      7     32  0.218750      35\n",
       "3              2   131473     14    134  0.104478       0\n",
       "5              2    32420     26    128  0.203125      11\n",
       "6              2    24239     40     90  0.444444      11\n",
       "8              1    27443      2     29  0.068966       8\n",
       "...          ...      ...    ...    ...       ...     ...\n",
       "50138          1    21697      2     22  0.090909      20\n",
       "50140          2     1232      5     96  0.052083      23\n",
       "50142          1   120653     15     74  0.202703       7\n",
       "50146          1   132567     45    296  0.152027      28\n",
       "50148          2    17310      9     82  0.109756      30\n",
       "\n",
       "[20031 rows x 6 columns]"
      ]
     },
     "execution_count": 105,
     "metadata": {},
     "output_type": "execute_result"
    }
   ],
   "source": [
    "df12"
   ]
  },
  {
   "cell_type": "code",
   "execution_count": 107,
   "id": "6351b6bf",
   "metadata": {},
   "outputs": [],
   "source": [
    "# Get linearized likes\n",
    "df12['linearized_like'] = df12.likes - ctr_control*df12.views"
   ]
  },
  {
   "cell_type": "code",
   "execution_count": 108,
   "id": "75d16cee",
   "metadata": {},
   "outputs": [
    {
     "data": {
      "text/html": [
       "<div>\n",
       "<style scoped>\n",
       "    .dataframe tbody tr th:only-of-type {\n",
       "        vertical-align: middle;\n",
       "    }\n",
       "\n",
       "    .dataframe tbody tr th {\n",
       "        vertical-align: top;\n",
       "    }\n",
       "\n",
       "    .dataframe thead th {\n",
       "        text-align: right;\n",
       "    }\n",
       "</style>\n",
       "<table border=\"1\" class=\"dataframe\">\n",
       "  <thead>\n",
       "    <tr style=\"text-align: right;\">\n",
       "      <th></th>\n",
       "      <th>exp_group</th>\n",
       "      <th>user_id</th>\n",
       "      <th>likes</th>\n",
       "      <th>views</th>\n",
       "      <th>ctr</th>\n",
       "      <th>bucket</th>\n",
       "      <th>linearized_like</th>\n",
       "    </tr>\n",
       "  </thead>\n",
       "  <tbody>\n",
       "    <tr>\n",
       "      <th>1</th>\n",
       "      <td>1</td>\n",
       "      <td>18392</td>\n",
       "      <td>7</td>\n",
       "      <td>32</td>\n",
       "      <td>0.218750</td>\n",
       "      <td>35</td>\n",
       "      <td>0.343142</td>\n",
       "    </tr>\n",
       "    <tr>\n",
       "      <th>3</th>\n",
       "      <td>2</td>\n",
       "      <td>131473</td>\n",
       "      <td>14</td>\n",
       "      <td>134</td>\n",
       "      <td>0.104478</td>\n",
       "      <td>0</td>\n",
       "      <td>-13.875592</td>\n",
       "    </tr>\n",
       "    <tr>\n",
       "      <th>5</th>\n",
       "      <td>2</td>\n",
       "      <td>32420</td>\n",
       "      <td>26</td>\n",
       "      <td>128</td>\n",
       "      <td>0.203125</td>\n",
       "      <td>11</td>\n",
       "      <td>-0.627431</td>\n",
       "    </tr>\n",
       "    <tr>\n",
       "      <th>6</th>\n",
       "      <td>2</td>\n",
       "      <td>24239</td>\n",
       "      <td>40</td>\n",
       "      <td>90</td>\n",
       "      <td>0.444444</td>\n",
       "      <td>11</td>\n",
       "      <td>21.277588</td>\n",
       "    </tr>\n",
       "    <tr>\n",
       "      <th>8</th>\n",
       "      <td>1</td>\n",
       "      <td>27443</td>\n",
       "      <td>2</td>\n",
       "      <td>29</td>\n",
       "      <td>0.068966</td>\n",
       "      <td>8</td>\n",
       "      <td>-4.032777</td>\n",
       "    </tr>\n",
       "    <tr>\n",
       "      <th>...</th>\n",
       "      <td>...</td>\n",
       "      <td>...</td>\n",
       "      <td>...</td>\n",
       "      <td>...</td>\n",
       "      <td>...</td>\n",
       "      <td>...</td>\n",
       "      <td>...</td>\n",
       "    </tr>\n",
       "    <tr>\n",
       "      <th>50138</th>\n",
       "      <td>1</td>\n",
       "      <td>21697</td>\n",
       "      <td>2</td>\n",
       "      <td>22</td>\n",
       "      <td>0.090909</td>\n",
       "      <td>20</td>\n",
       "      <td>-2.576590</td>\n",
       "    </tr>\n",
       "    <tr>\n",
       "      <th>50140</th>\n",
       "      <td>2</td>\n",
       "      <td>1232</td>\n",
       "      <td>5</td>\n",
       "      <td>96</td>\n",
       "      <td>0.052083</td>\n",
       "      <td>23</td>\n",
       "      <td>-14.970573</td>\n",
       "    </tr>\n",
       "    <tr>\n",
       "      <th>50142</th>\n",
       "      <td>1</td>\n",
       "      <td>120653</td>\n",
       "      <td>15</td>\n",
       "      <td>74</td>\n",
       "      <td>0.202703</td>\n",
       "      <td>7</td>\n",
       "      <td>-0.393984</td>\n",
       "    </tr>\n",
       "    <tr>\n",
       "      <th>50146</th>\n",
       "      <td>1</td>\n",
       "      <td>132567</td>\n",
       "      <td>45</td>\n",
       "      <td>296</td>\n",
       "      <td>0.152027</td>\n",
       "      <td>28</td>\n",
       "      <td>-16.575934</td>\n",
       "    </tr>\n",
       "    <tr>\n",
       "      <th>50148</th>\n",
       "      <td>2</td>\n",
       "      <td>17310</td>\n",
       "      <td>9</td>\n",
       "      <td>82</td>\n",
       "      <td>0.109756</td>\n",
       "      <td>30</td>\n",
       "      <td>-8.058198</td>\n",
       "    </tr>\n",
       "  </tbody>\n",
       "</table>\n",
       "<p>20031 rows × 7 columns</p>\n",
       "</div>"
      ],
      "text/plain": [
       "       exp_group  user_id  likes  views       ctr  bucket  linearized_like\n",
       "1              1    18392      7     32  0.218750      35         0.343142\n",
       "3              2   131473     14    134  0.104478       0       -13.875592\n",
       "5              2    32420     26    128  0.203125      11        -0.627431\n",
       "6              2    24239     40     90  0.444444      11        21.277588\n",
       "8              1    27443      2     29  0.068966       8        -4.032777\n",
       "...          ...      ...    ...    ...       ...     ...              ...\n",
       "50138          1    21697      2     22  0.090909      20        -2.576590\n",
       "50140          2     1232      5     96  0.052083      23       -14.970573\n",
       "50142          1   120653     15     74  0.202703       7        -0.393984\n",
       "50146          1   132567     45    296  0.152027      28       -16.575934\n",
       "50148          2    17310      9     82  0.109756      30        -8.058198\n",
       "\n",
       "[20031 rows x 7 columns]"
      ]
     },
     "execution_count": 108,
     "metadata": {},
     "output_type": "execute_result"
    }
   ],
   "source": [
    "df12"
   ]
  },
  {
   "cell_type": "markdown",
   "id": "e1e4f5f4",
   "metadata": {},
   "source": [
    "Calculate p-value for linearized metrics using T-test. For comparison calculate it for the users CTRs as well:"
   ]
  },
  {
   "cell_type": "code",
   "execution_count": 158,
   "id": "99b0feae",
   "metadata": {},
   "outputs": [
    {
     "name": "stdout",
     "output_type": "stream",
     "text": [
      "Linearized metric:\n",
      "p-value=9.439432187037644e-10\n",
      "User CTR:\n",
      "p-value=0.4780623130874935\n"
     ]
    }
   ],
   "source": [
    "print('Linearized metric:')\n",
    "print('p-value=', stats.ttest_ind(df12[df12.exp_group == 1].linearized_like,\n",
    "                df12[df12.exp_group == 2].linearized_like,\n",
    "                equal_var=False)[1], sep='')\n",
    "print('User CTR:')\n",
    "print('p-value=', stats.ttest_ind(df12[df12.exp_group == 1].ctr,\n",
    "                df12[df12.exp_group == 2].ctr,\n",
    "                equal_var=False)[1], sep='')"
   ]
  },
  {
   "cell_type": "code",
   "execution_count": 126,
   "id": "61313934",
   "metadata": {},
   "outputs": [
    {
     "data": {
      "image/png": "[encoded data removed]",
      "text/plain": [
       "<Figure size 1008x504 with 1 Axes>"
      ]
     },
     "metadata": {},
     "output_type": "display_data"
    }
   ],
   "source": [
    "sns.set(rc={'figure.figsize':(14,7)})\n",
    "groups = sns.histplot(data = df12, x='linearized_like', hue='exp_group', palette = ['blue', 'green'], alpha=0.6)"
   ]
  },
  {
   "cell_type": "markdown",
   "id": "a98ab51a",
   "metadata": {},
   "source": [
    "__Compare two other groups__:<br>\n",
    "group 0 (Control) and 3 (Treatment):"
   ]
  },
  {
   "cell_type": "code",
   "execution_count": 115,
   "id": "1cb4ed81",
   "metadata": {},
   "outputs": [],
   "source": [
    "df03 = df.query('exp_group == [0, 3]').copy()"
   ]
  },
  {
   "cell_type": "code",
   "execution_count": 129,
   "id": "7aaf4410",
   "metadata": {},
   "outputs": [
    {
     "data": {
      "text/plain": [
       "0.20823612262916305"
      ]
     },
     "execution_count": 129,
     "metadata": {},
     "output_type": "execute_result"
    }
   ],
   "source": [
    "# Global CTR of Control group (0)\n",
    "ctr_control_0 = df[df.exp_group == 0].likes.sum()/df[df.exp_group == 0].views.sum()\n",
    "ctr_control_0"
   ]
  },
  {
   "cell_type": "code",
   "execution_count": 118,
   "id": "7a1fd3ba",
   "metadata": {},
   "outputs": [],
   "source": [
    "# Get linearized likes\n",
    "df03['linearized_like'] = df03.likes - ctr_control_0*df03.views"
   ]
  },
  {
   "cell_type": "code",
   "execution_count": 154,
   "id": "53da793a",
   "metadata": {},
   "outputs": [
    {
     "name": "stdout",
     "output_type": "stream",
     "text": [
      "Linearized metric:\n",
      "p-value=5.4914249479690016e-52\n",
      "User CTR:\n",
      "p-value=1.055849414662529e-43\n"
     ]
    }
   ],
   "source": [
    "print('Linearized metric:')\n",
    "print(\"p-value=\", stats.ttest_ind(df03[df03.exp_group == 0].linearized_like,\n",
    "                df03[df03.exp_group == 3].linearized_like,\n",
    "                equal_var=False)[1], sep='')\n",
    "print('User CTR:')\n",
    "print('p-value=', stats.ttest_ind(df03[df03.exp_group == 0].ctr,\n",
    "                df03[df03.exp_group == 3].ctr,\n",
    "                equal_var=False)[1], sep='')"
   ]
  },
  {
   "cell_type": "code",
   "execution_count": 144,
   "id": "68b83233",
   "metadata": {},
   "outputs": [
    {
     "data": {
      "image/png": "[encoded data removed]",
      "text/plain": [
       "<Figure size 1008x504 with 1 Axes>"
      ]
     },
     "metadata": {},
     "output_type": "display_data"
    }
   ],
   "source": [
    "sns.set(rc={'figure.figsize':(14,7)})\n",
    "groups = sns.histplot(data = df03, x='linearized_like', hue='exp_group', palette = ['blue', 'green'], alpha=0.6)"
   ]
  },
  {
   "cell_type": "markdown",
   "id": "57d9afca",
   "metadata": {},
   "source": [
    "T-test worked better on linearized metric. It showed that there is difference between group 1 and 2. For groups 0 and 3 p-value is smaller than when comparing users CTRs."
   ]
  },
  {
   "cell_type": "code",
   "execution_count": null,
   "id": "35b066d2",
   "metadata": {},
   "outputs": [],
   "source": []
  }
 ],
 "metadata": {
  "kernelspec": {
   "display_name": "Python 3",
   "language": "python",
   "name": "python3"
  },
  "language_info": {
   "codemirror_mode": {
    "name": "ipython",
    "version": 3
   },
   "file_extension": ".py",
   "mimetype": "text/x-python",
   "name": "python",
   "nbconvert_exporter": "python",
   "pygments_lexer": "ipython3",
   "version": "3.8.8"
  }
 },
 "nbformat": 4,
 "nbformat_minor": 5
}
